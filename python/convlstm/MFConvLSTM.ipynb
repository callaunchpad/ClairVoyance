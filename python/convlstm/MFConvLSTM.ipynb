{
 "cells": [
  {
   "cell_type": "code",
   "execution_count": 7,
   "metadata": {},
   "outputs": [],
   "source": [
    "import keras\n",
    "from keras.models import Sequential\n",
    "from keras.layers import Dense, Reshape, TimeDistributed, Flatten, RepeatVector\n",
    "from keras.layers import LSTM\n",
    "from keras.layers.convolutional import Conv3D\n",
    "from keras.layers.convolutional_recurrent import ConvLSTM2D\n",
    "from keras.layers.normalization import BatchNormalization\n",
    "import numpy as np\n",
    "import pylab as plt"
   ]
  },
  {
   "cell_type": "code",
   "execution_count": 8,
   "metadata": {},
   "outputs": [
    {
     "data": {
      "image/png": "[encoded data removed]",
      "text/plain": [
       "<Figure size 432x288 with 2 Axes>"
      ]
     },
     "metadata": {
      "needs_background": "light"
     },
     "output_type": "display_data"
    },
    {
     "name": "stdout",
     "output_type": "stream",
     "text": [
      "(9900, 10, 64, 64, 1)\n",
      "(9900, 10, 64, 64, 1)\n"
     ]
    }
   ],
   "source": [
    "data = np.load(\"MNIST_test_seq.npy\")\n",
    "data = np.swapaxes(data, 0, 1)\n",
    "\n",
    "data_test_input = data[100:10000, :10, :, :]\n",
    "data_test_output = data[100:10000, 10:20, :, :]\n",
    "\n",
    "data_actual_test_input = data[0:100, :10, :, :]\n",
    "data_actual_test_output = data[0:100, 10:20, :, :]\n",
    "\n",
    "plt.imshow(data_test_input[4][0])\n",
    "plt.colorbar()\n",
    "plt.show()\n",
    "\n",
    "#Scaling values between -1 and 1\n",
    "data_test_input = (data_test_input - 127.5) / 255.0\n",
    "data_test_output = (data_test_output - 127.5) / 255.0\n",
    "data_actual_test_input = (data_actual_test_input - 127.5) / 255.0\n",
    "data_actual_test_output = (data_actual_test_output - 127.5) / 255.0\n",
    "\n",
    "#Adding Channels of dimension 1 IMPORTANT if using CNNs\n",
    "train_in = np.expand_dims(data_test_input, axis=4)\n",
    "train_out = np.expand_dims(data_test_output, axis=4)\n",
    "test_in = np.expand_dims(data_actual_test_input, axis=4)\n",
    "test_out = np.expand_dims(data_actual_test_output, axis=4)\n",
    "\n",
    "print(train_in.shape)\n",
    "print(train_out.shape)\n",
    "\n",
    "# output_frames.shape\n",
    "# output_frames = np.squeeze(output_frames, axis=1)\n",
    "# test_output_frames = np.squeeze(test_output_frames, axis=1)\n",
    "# plt.plot(test_output_frames[0])\n",
    "# plt.show()\n",
    "\n",
    "# output_frames.shape\n",
    "# plt.imshow(np.squeeze(test_output_frames[1], axis=2))\n",
    "# plt.show()"
   ]
  },
  {
   "cell_type": "code",
   "execution_count": null,
   "metadata": {},
   "outputs": [],
   "source": []
  },
  {
   "cell_type": "code",
   "execution_count": null,
   "metadata": {},
   "outputs": [],
   "source": []
  },
  {
   "cell_type": "code",
   "execution_count": 9,
   "metadata": {},
   "outputs": [
    {
     "name": "stdout",
     "output_type": "stream",
     "text": [
      "Model: \"sequential_2\"\n",
      "_________________________________________________________________\n",
      "Layer (type)                 Output Shape              Param #   \n",
      "=================================================================\n",
      "conv_lst_m2d_8 (ConvLSTM2D)  (None, 10, 64, 64, 10)    4000      \n",
      "_________________________________________________________________\n",
      "batch_normalization_4 (Batch (None, 10, 64, 64, 10)    40        \n",
      "_________________________________________________________________\n",
      "conv_lst_m2d_9 (ConvLSTM2D)  (None, 10, 64, 64, 10)    7240      \n",
      "_________________________________________________________________\n",
      "batch_normalization_5 (Batch (None, 10, 64, 64, 10)    40        \n",
      "_________________________________________________________________\n",
      "conv_lst_m2d_10 (ConvLSTM2D) (None, 10, 64, 64, 10)    7240      \n",
      "_________________________________________________________________\n",
      "batch_normalization_6 (Batch (None, 10, 64, 64, 10)    40        \n",
      "_________________________________________________________________\n",
      "conv_lst_m2d_11 (ConvLSTM2D) (None, 64, 64, 1)         400       \n",
      "_________________________________________________________________\n",
      "flatten_2 (Flatten)          (None, 4096)              0         \n",
      "_________________________________________________________________\n",
      "repeat_vector_2 (RepeatVecto (None, 10, 4096)          0         \n",
      "_________________________________________________________________\n",
      "reshape_2 (Reshape)          (None, 10, 64, 64, 1)     0         \n",
      "_________________________________________________________________\n",
      "conv_lst_m2d_12 (ConvLSTM2D) (None, 10, 64, 64, 10)    4000      \n",
      "_________________________________________________________________\n",
      "conv_lst_m2d_13 (ConvLSTM2D) (None, 10, 64, 64, 10)    7240      \n",
      "_________________________________________________________________\n",
      "conv_lst_m2d_14 (ConvLSTM2D) (None, 10, 64, 64, 1)     400       \n",
      "=================================================================\n",
      "Total params: 30,640\n",
      "Trainable params: 30,580\n",
      "Non-trainable params: 60\n",
      "_________________________________________________________________\n"
     ]
    }
   ],
   "source": [
    "#Define filters\n",
    "filters = 10\n",
    "\n",
    "model3 = Sequential()\n",
    "model3.add(ConvLSTM2D(filters=filters, kernel_size=(3, 3),\n",
    "                   input_shape=(10, 64, 64, 1),\n",
    "                   padding='same', return_sequences=True))\n",
    "model3.add(BatchNormalization())\n",
    "\n",
    "model3.add(ConvLSTM2D(filters=filters, kernel_size=(3, 3),\n",
    "                   padding='same', return_sequences=True))\n",
    "model3.add(BatchNormalization())\n",
    "\n",
    "model3.add(ConvLSTM2D(filters=filters, kernel_size=(3, 3),\n",
    "                   padding='same', return_sequences=True))\n",
    "model3.add(BatchNormalization())\n",
    "\n",
    "model3.add(ConvLSTM2D(filters=1, kernel_size=(3, 3),\n",
    "                   padding='same'))\n",
    "\n",
    "out_size = model3.layers[-1].output_shape\n",
    "num_repeat = 10\n",
    "\n",
    "model3.add(Flatten())\n",
    "model3.add(RepeatVector(num_repeat))\n",
    "model3.add(Reshape(tuple([num_repeat]) + out_size[1:]))\n",
    "\n",
    "model3.add(ConvLSTM2D(filters=filters, kernel_size=(3, 3),\n",
    "                   input_shape=(10, 64, 64, 1),\n",
    "                   padding='same', return_sequences=True))\n",
    "\n",
    "model3.add(ConvLSTM2D(filters=filters, kernel_size=(3, 3),\n",
    "                   input_shape=(10, 64, 64, 1),\n",
    "                   padding='same', return_sequences=True))\n",
    "\n",
    "model3.add(ConvLSTM2D(filters=1, kernel_size=(3, 3),\n",
    "                   input_shape=(10, 64, 64, 1),\n",
    "                   padding='same', return_sequences=True))\n",
    "\n",
    "\n",
    "#Have model return one image with one channel/filter\n",
    "#Output shape = (batch_size, 1, 64, 64, 1)\n",
    "# model3.add(BatchNormalization())\n",
    "\n",
    "# model3.add(Conv3D(filters=1, kernel_size=(3, 3, 3),\n",
    "#                activation='sigmoid',\n",
    "#                padding='same', data_format='channels_last'))\n",
    "model3.compile(loss='mse', optimizer='adam')\n",
    "model3.summary()"
   ]
  },
  {
   "cell_type": "code",
   "execution_count": 12,
   "metadata": {},
   "outputs": [],
   "source": [
    "model3 = keras.models.load_model('model3_epoch100.h5')"
   ]
  },
  {
   "cell_type": "code",
   "execution_count": 6,
   "metadata": {},
   "outputs": [
    {
     "name": "stdout",
     "output_type": "stream",
     "text": [
      "(9900, 10, 64, 64, 1)\n"
     ]
    }
   ],
   "source": [
    "print(train_out.shape)"
   ]
  },
  {
   "cell_type": "code",
   "execution_count": null,
   "metadata": {},
   "outputs": [
    {
     "name": "stdout",
     "output_type": "stream",
     "text": [
      "Epoch: 1\n",
      "WARNING:tensorflow:From /Library/Frameworks/Python.framework/Versions/3.7/lib/python3.7/site-packages/tensorflow/python/ops/math_grad.py:1250: add_dispatch_support.<locals>.wrapper (from tensorflow.python.ops.array_ops) is deprecated and will be removed in a future version.\n",
      "Instructions for updating:\n",
      "Use tf.where in 2.0, which has the same broadcast rule as np.where\n",
      "WARNING:tensorflow:From /Library/Frameworks/Python.framework/Versions/3.7/lib/python3.7/site-packages/keras/backend/tensorflow_backend.py:422: The name tf.global_variables is deprecated. Please use tf.compat.v1.global_variables instead.\n",
      "\n",
      "Epoch 1/1\n",
      " 220/9900 [..............................] - ETA: 1:10:32 - loss: 0.1283"
     ]
    }
   ],
   "source": [
    "for epoch in range(1,251):\n",
    "    print(\"Epoch:\",epoch)\n",
    "    model3.fit(train_in, train_out, batch_size=10, epochs = 1)\n",
    "    \n",
    "    inputs = train_in[epoch*10: (epoch+1)*10]\n",
    "    ground_truth = train_out[epoch*10: (epoch+1)*10]\n",
    "    predictions = model3.predict(inputs)\n",
    "#     predictions = predictions.reshape(10, 64, 64)\n",
    "#     ground_truth = ground_truth.reshape(10, 64, 64)\n",
    "#     plt.figure(figsize=(20, 20))\n",
    "#     for i in range(predictions.shape[0]):\n",
    "#         plt.subplot(10, 10, i+1)\n",
    "#         plt.imshow(predictions[i], interpolation='nearest')\n",
    "#         plt.subplot(10, 10, 10+i+1)\n",
    "#         plt.imshow(ground_truth[i], interpolation='nearest')\n",
    "#         plt.axis('off')\n",
    "#     plt.show()\n",
    "#     plt.tight_layout()\n",
    "    if epoch % 10 == 0:\n",
    "        model3.save('multiframeconvlstm_epoch'+str(epoch)+'.h5')\n",
    "    print('-----------------------------------')"
   ]
  },
  {
   "cell_type": "code",
   "execution_count": null,
   "metadata": {},
   "outputs": [],
   "source": []
  }
 ],
 "metadata": {
  "kernelspec": {
   "display_name": "Python 3",
   "language": "python",
   "name": "python3"
  },
  "language_info": {
   "codemirror_mode": {
    "name": "ipython",
    "version": 3
   },
   "file_extension": ".py",
   "mimetype": "text/x-python",
   "name": "python",
   "nbconvert_exporter": "python",
   "pygments_lexer": "ipython3",
   "version": "3.7.3"
  }
 },
 "nbformat": 4,
 "nbformat_minor": 2
}
