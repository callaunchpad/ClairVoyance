{
 "cells": [
  {
   "cell_type": "code",
   "execution_count": 1,
   "metadata": {},
   "outputs": [
    {
     "name": "stdout",
     "output_type": "stream",
     "text": [
      "1.14.0\n"
     ]
    }
   ],
   "source": [
    "import tensorflow as tf\n",
    "import numpy as np\n",
    "import pylab as plt\n",
    "print(tf.__version__)"
   ]
  },
  {
   "cell_type": "code",
   "execution_count": 2,
   "metadata": {},
   "outputs": [
    {
     "data": {
      "image/png": "[encoded data removed]",
      "text/plain": [
       "<Figure size 432x288 with 2 Axes>"
      ]
     },
     "metadata": {
      "needs_background": "light"
     },
     "output_type": "display_data"
    }
   ],
   "source": [
    "data = np.load(\"mnist_test_seq.npy\")\n",
    "data = np.swapaxes(data, 0, 1)\n",
    "\n",
    "num_predicted_frames = 5\n",
    "\n",
    "data_train_input_enc = data[100:10000, :10, :, :]\n",
    "data_train_input_dec = data[100:10000, 9:9+num_predicted_frames, :, :]\n",
    "data_train_output = data[100:10000, 10:10+num_predicted_frames, :, :]\n",
    "\n",
    "data_test_input = data[0:100, :10, :, :]\n",
    "data_test_output = data[0:100, 10:10+num_predicted_frames, :, :]\n",
    "\n",
    "plt.imshow(data_test_input[4][0])\n",
    "plt.colorbar()\n",
    "plt.show()\n",
    "\n",
    "#Scaling values between -1 and 1\n",
    "data_train_input_enc = (data_train_input_enc - 127.5) / 255.0\n",
    "data_train_input_dec = (data_train_input_dec - 127.5) / 255.0\n",
    "data_train_output = (data_train_output - 127.5) / 255.0\n",
    "data_test_input = (data_test_input - 127.5) / 255.0\n",
    "data_test_output = (data_test_output - 127.5) / 255.0\n",
    "\n",
    "#Adding Channels of dimension 1 IMPORTANT if using CNNs\n",
    "train_in_enc = np.expand_dims(data_train_input_enc, axis=4)\n",
    "train_in_dec = np.expand_dims(data_train_input_dec, axis=4)\n",
    "train_out = np.expand_dims(data_train_output, axis=4)\n",
    "test_in = np.expand_dims(data_test_input, axis=4)\n",
    "test_out = np.expand_dims(data_test_output, axis=4)\n",
    "\n",
    "\n",
    "# output_frames.shape\n",
    "# output_frames = np.squeeze(output_frames, axis=1)\n",
    "# test_output_frames = np.squeeze(test_output_frames, axis=1)\n",
    "# plt.plot(test_output_frames[0])\n",
    "# plt.show()\n",
    "\n",
    "# output_frames.shape\n",
    "# plt.imshow(np.squeeze(test_output_frames[1], axis=2))\n",
    "# plt.show()"
   ]
  },
  {
   "cell_type": "code",
   "execution_count": 3,
   "metadata": {},
   "outputs": [
    {
     "name": "stdout",
     "output_type": "stream",
     "text": [
      "Boston-Housing-Prelim (1).ipynb        MovingMNIST-ConvLSTM-autoencoder.ipynb\r\n",
      "\u001b[34mClairVoyance\u001b[m\u001b[m                           Network Visualization.ipynb\r\n",
      "EncDecCNN.ipynb                        NeuralNetTutorial.ipynb\r\n",
      "KNN-MNIST.ipynb                        TensorflowCNN.ipynb\r\n",
      "MNIST-CNN.ipynb                        mnist_test_seq.npy\r\n"
     ]
    }
   ],
   "source": [
    "!ls"
   ]
  },
  {
   "cell_type": "code",
   "execution_count": 4,
   "metadata": {},
   "outputs": [],
   "source": [
    "max = 5"
   ]
  },
  {
   "cell_type": "code",
   "execution_count": 5,
   "metadata": {},
   "outputs": [
    {
     "data": {
      "text/plain": [
       "\"model.add(RepeatVector(num_repeat))\\nmodel.add(Reshape(tuple([num_repeat]) + out_size[1:]))\\n\\nmodel.add(ConvLSTM2D(filters=5, kernel_size=(3, 3),\\n                   padding='same', return_sequences=True))\\nmodel.add(BatchNormalization())\\n\\nmodel.add(ConvLSTM2D(filters=10, kernel_size=(3, 3),\\n                   padding='same', return_sequences=True))\\nmodel.add(BatchNormalization())\\n\\nmodel.add(ConvLSTM2D(filters=1, kernel_size=(3, 3),\\n                   padding='same', return_sequences=True))\\nmodel.add(BatchNormalization())\""
      ]
     },
     "execution_count": 5,
     "metadata": {},
     "output_type": "execute_result"
    }
   ],
   "source": [
    "\n",
    "def encoder(inputs):\n",
    "    l1 = tf.keras.layers.ConvLSTM2D(filters=1, kernel_size=(3, 3), padding = 'same', return_state=True)\n",
    "    outputs, state_h, state_c = l1(inputs)\n",
    "    return outputs, state_h, state_c\n",
    "    \n",
    "\n",
    "\n",
    "\n",
    "def decoder(inputs, state_h, state_c):\n",
    "    l1 = tf.keras.layers.ConvLSTM2D(filters=1, kernel_size=(3,3), padding = 'same', return_sequences=True, return_state = True)\n",
    "    outputs, new_state_h, new_state_c = l1(inputs, initial_state = [state_h, state_c])\n",
    "    return outputs, new_state_h, new_state_c\n",
    "\n"
   ]
  },
  {
   "cell_type": "raw",
   "metadata": {},
   "source": []
  },
  {
   "cell_type": "code",
   "execution_count": 6,
   "metadata": {},
   "outputs": [
    {
     "name": "stdout",
     "output_type": "stream",
     "text": [
      "WARNING:tensorflow:From //anaconda3/lib/python3.7/site-packages/tensorflow/python/ops/init_ops.py:1251: calling VarianceScaling.__init__ (from tensorflow.python.ops.init_ops) with dtype is deprecated and will be removed in a future version.\n",
      "Instructions for updating:\n",
      "Call initializer instance with the dtype argument instead of passing it to the constructor\n",
      "WARNING:tensorflow:From //anaconda3/lib/python3.7/site-packages/tensorflow/python/ops/math_grad.py:1205: add_dispatch_support.<locals>.wrapper (from tensorflow.python.ops.array_ops) is deprecated and will be removed in a future version.\n",
      "Instructions for updating:\n",
      "Use tf.where in 2.0, which has the same broadcast rule as np.where\n"
     ]
    }
   ],
   "source": [
    "enc_inputs=tf.placeholder(dtype = tf.float32, shape=[None, 10, 64, 64, 1])\n",
    "dec_inputs=tf.placeholder(dtype = tf.float32, shape=[None, num_predicted_frames, 64, 64, 1])\n",
    "ground_truth=tf.placeholder(dtype = tf.float32, shape=[None, num_predicted_frames, 64, 64, 1])\n",
    "\n",
    "_, state_h, state_c = encoder(enc_inputs)\n",
    "dec_out, _, _ = decoder(dec_inputs, state_h, state_c)\n",
    "\n",
    "loss = tf.reduce_mean(tf.pow(dec_out - ground_truth, 2))\n",
    "\n",
    "trainer = tf.train.AdamOptimizer(learning_rate=0.001).minimize(loss)\n",
    "\n",
    "\n",
    "batch_size = 30\n",
    "num_epochs = 20"
   ]
  },
  {
   "cell_type": "code",
   "execution_count": null,
   "metadata": {},
   "outputs": [
    {
     "name": "stdout",
     "output_type": "stream",
     "text": [
      "Starting to run session...\n",
      "0.033938877\n",
      "0.03171972\n",
      "0.0307195\n",
      "0.030148348\n",
      "0.029805124\n"
     ]
    }
   ],
   "source": [
    "init=tf.global_variables_initializer()\n",
    "local_init = tf.local_variables_initializer()\n",
    "with tf.Session() as sess:\n",
    "    #each call to sess.run() runs the approriate input within our tf session\n",
    "    sess.run(init)\n",
    "    sess.run(local_init)\n",
    "    print(\"Starting to run session...\")\n",
    "    for epoch in range(num_epochs): #iterate through each epoch\n",
    "        for i in range(train_out.shape[0]//batch_size): #iterate through the number of batches we can make from our samples\n",
    "            batch_enc_in = train_in_enc[i*batch_size:(i+1)*batch_size]\n",
    "            batch_dec_in = train_in_dec[i*batch_size:(i+1)*batch_size]\n",
    "            batch_truth = train_out[i*batch_size:(i+1)*batch_size]\n",
    "            #We have a batch of training images and labels. \n",
    "            #Now we need to run the model by inputing these into the place holders we made\n",
    "            _ = sess.run([trainer], feed_dict={enc_inputs: batch_enc_in, dec_inputs: batch_dec_in, ground_truth: batch_truth})\n",
    "        #Checking our accuracy each epoch...\n",
    "        l = sess.run(\n",
    "            loss, feed_dict={enc_inputs: batch_enc_in, dec_inputs: batch_dec_in, ground_truth: batch_truth})\n",
    "        print(l)"
   ]
  },
  {
   "cell_type": "code",
   "execution_count": null,
   "metadata": {},
   "outputs": [],
   "source": []
  },
  {
   "cell_type": "code",
   "execution_count": null,
   "metadata": {},
   "outputs": [],
   "source": []
  }
 ],
 "metadata": {
  "kernelspec": {
   "display_name": "Python 3",
   "language": "python",
   "name": "python3"
  },
  "language_info": {
   "codemirror_mode": {
    "name": "ipython",
    "version": 3
   },
   "file_extension": ".py",
   "mimetype": "text/x-python",
   "name": "python",
   "nbconvert_exporter": "python",
   "pygments_lexer": "ipython3",
   "version": "3.7.3"
  }
 },
 "nbformat": 4,
 "nbformat_minor": 2
}
