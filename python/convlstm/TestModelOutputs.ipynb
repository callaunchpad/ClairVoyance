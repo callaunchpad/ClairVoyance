{
 "cells": [
  {
   "cell_type": "code",
   "execution_count": null,
   "metadata": {},
   "outputs": [],
   "source": [
    "import keras\n",
    "from keras.models import Sequential\n",
    "from keras.layers import Dense, Reshape, TimeDistributed, Flatten\n",
    "from keras.layers import LSTM\n",
    "from keras.layers.convolutional import Conv3D\n",
    "from keras.layers.convolutional_recurrent import ConvLSTM2D\n",
    "from keras.layers.normalization import BatchNormalization\n",
    "import numpy as np\n",
    "import pylab as plt"
   ]
  },
  {
   "cell_type": "code",
   "execution_count": null,
   "metadata": {},
   "outputs": [],
   "source": [
    "data = np.load(\"mnist_test_seq.npy\")\n",
    "# Put data into format (training samples, frames, width, height)\n",
    "data = np.swapaxes(data, 0, 1)\n",
    "\n",
    "# Take a part of the dataset\n",
    "input_sequence_frames = data[6000:9000, :10, :, :]\n",
    "output_frames = data[6000:9000, 10:11, :, :]\n",
    "test_input_sequence_frames = data[9000:, :10, :, :]\n",
    "test_output_frames = data[9000:, 10:11, :, :]\n",
    "\n",
    "\n",
    "\n",
    "#Scaling values between -1 and 1\n",
    "input_sequence_frames = (input_sequence_frames - 127.5) / 255.0\n",
    "output_frames = (output_frames - 127.5) / 255.0\n",
    "test_input_sequence_frames = (test_input_sequence_frames - 127.5) / 255.0\n",
    "test_output_frames = (test_output_frames - 127.5) / 255.0\n",
    "\n",
    "# Add new axis for 1 channel images\n",
    "input_sequence_frames = input_sequence_frames[:,:,:,:,np.newaxis]\n",
    "output_frames = output_frames[:,:,:,:,np.newaxis]\n",
    "test_input_sequence_frames = test_input_sequence_frames[:,:,:,:,np.newaxis]\n",
    "test_output_frames = test_output_frames[:,:,:,:,np.newaxis]"
   ]
  },
  {
   "cell_type": "code",
   "execution_count": null,
   "metadata": {},
   "outputs": [],
   "source": [
    "output_frames.shape\n",
    "output_frames = np.squeeze(output_frames, axis=1)\n",
    "test_output_frames = np.squeeze(test_output_frames, axis=1)\n",
    "# plt.plot(test_output_frames[0])\n",
    "# plt.show()"
   ]
  },
  {
   "cell_type": "code",
   "execution_count": null,
   "metadata": {},
   "outputs": [],
   "source": [
    "output_frames.shape\n",
    "plt.imshow(np.squeeze(test_output_frames[1], axis=2))\n",
    "# plt.show()"
   ]
  },
  {
   "cell_type": "code",
   "execution_count": null,
   "metadata": {},
   "outputs": [],
   "source": [
    "from keras.models import load_model\n",
    "model3 = load_model('model3_epoch100.h5')"
   ]
  },
  {
   "cell_type": "code",
   "execution_count": null,
   "metadata": {},
   "outputs": [],
   "source": [
    "for epoch in range(len(test_input_sequence_frames)//10):\n",
    "    inputs = test_input_sequence_frames[epoch*10: (epoch+1)*10]\n",
    "    ground_truth = test_output_frames[epoch*10: (epoch+1)*10]\n",
    "    predictions = model3.predict(inputs)\n",
    "    predictions = predictions.reshape(10, 64, 64)\n",
    "    ground_truth = ground_truth.reshape(10, 64, 64)\n",
    "    plt.figure(figsize=(20, 20))\n",
    "    for i in range(predictions.shape[0]):\n",
    "        plt.subplot(10, 10, i+1)\n",
    "        plt.imshow(predictions[i], interpolation='nearest')\n",
    "        plt.subplot(10, 10, 10+i+1)\n",
    "        plt.imshow(ground_truth[i], interpolation='nearest')\n",
    "        plt.axis('off')\n",
    "    plt.tight_layout()\n",
    "    plt.savefig(str(epoch)+'.png', bbox_inches='tight')\n",
    "#     plt.savefig(str(epoch)+'.png')\n",
    "    print('---------------'+str(epoch)+'-------------------')"
   ]
  },
  {
   "cell_type": "code",
   "execution_count": null,
   "metadata": {},
   "outputs": [],
   "source": []
  }
 ],
 "metadata": {
  "kernelspec": {
   "display_name": "Python 3",
   "language": "python",
   "name": "python3"
  },
  "language_info": {
   "codemirror_mode": {
    "name": "ipython",
    "version": 3
   },
   "file_extension": ".py",
   "mimetype": "text/x-python",
   "name": "python",
   "nbconvert_exporter": "python",
   "pygments_lexer": "ipython3",
   "version": "3.7.3"
  }
 },
 "nbformat": 4,
 "nbformat_minor": 2
}
