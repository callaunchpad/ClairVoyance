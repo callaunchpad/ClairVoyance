{
 "cells": [
  {
   "cell_type": "code",
   "execution_count": 1,
   "metadata": {},
   "outputs": [],
   "source": [
    "#Practice with some ConvNets\n",
    "#This ipython also assumes you have decent knowledge of ConvNets. This article should be good enough for now: https://towardsdatascience.com/a-comprehensive-guide-to-convolutional-neural-networks-the-eli5-way-3bd2b1164a53"
   ]
  },
  {
   "cell_type": "code",
   "execution_count": 2,
   "metadata": {},
   "outputs": [
    {
     "name": "stderr",
     "output_type": "stream",
     "text": [
      "/Library/Frameworks/Python.framework/Versions/3.7/lib/python3.7/site-packages/tensorflow/python/framework/dtypes.py:516: FutureWarning: Passing (type, 1) or '1type' as a synonym of type is deprecated; in a future version of numpy, it will be understood as (type, (1,)) / '(1,)type'.\n",
      "  _np_qint8 = np.dtype([(\"qint8\", np.int8, 1)])\n",
      "/Library/Frameworks/Python.framework/Versions/3.7/lib/python3.7/site-packages/tensorflow/python/framework/dtypes.py:517: FutureWarning: Passing (type, 1) or '1type' as a synonym of type is deprecated; in a future version of numpy, it will be understood as (type, (1,)) / '(1,)type'.\n",
      "  _np_quint8 = np.dtype([(\"quint8\", np.uint8, 1)])\n",
      "/Library/Frameworks/Python.framework/Versions/3.7/lib/python3.7/site-packages/tensorflow/python/framework/dtypes.py:518: FutureWarning: Passing (type, 1) or '1type' as a synonym of type is deprecated; in a future version of numpy, it will be understood as (type, (1,)) / '(1,)type'.\n",
      "  _np_qint16 = np.dtype([(\"qint16\", np.int16, 1)])\n",
      "/Library/Frameworks/Python.framework/Versions/3.7/lib/python3.7/site-packages/tensorflow/python/framework/dtypes.py:519: FutureWarning: Passing (type, 1) or '1type' as a synonym of type is deprecated; in a future version of numpy, it will be understood as (type, (1,)) / '(1,)type'.\n",
      "  _np_quint16 = np.dtype([(\"quint16\", np.uint16, 1)])\n",
      "/Library/Frameworks/Python.framework/Versions/3.7/lib/python3.7/site-packages/tensorflow/python/framework/dtypes.py:520: FutureWarning: Passing (type, 1) or '1type' as a synonym of type is deprecated; in a future version of numpy, it will be understood as (type, (1,)) / '(1,)type'.\n",
      "  _np_qint32 = np.dtype([(\"qint32\", np.int32, 1)])\n",
      "/Library/Frameworks/Python.framework/Versions/3.7/lib/python3.7/site-packages/tensorflow/python/framework/dtypes.py:525: FutureWarning: Passing (type, 1) or '1type' as a synonym of type is deprecated; in a future version of numpy, it will be understood as (type, (1,)) / '(1,)type'.\n",
      "  np_resource = np.dtype([(\"resource\", np.ubyte, 1)])\n",
      "/Library/Frameworks/Python.framework/Versions/3.7/lib/python3.7/site-packages/tensorboard/compat/tensorflow_stub/dtypes.py:541: FutureWarning: Passing (type, 1) or '1type' as a synonym of type is deprecated; in a future version of numpy, it will be understood as (type, (1,)) / '(1,)type'.\n",
      "  _np_qint8 = np.dtype([(\"qint8\", np.int8, 1)])\n",
      "/Library/Frameworks/Python.framework/Versions/3.7/lib/python3.7/site-packages/tensorboard/compat/tensorflow_stub/dtypes.py:542: FutureWarning: Passing (type, 1) or '1type' as a synonym of type is deprecated; in a future version of numpy, it will be understood as (type, (1,)) / '(1,)type'.\n",
      "  _np_quint8 = np.dtype([(\"quint8\", np.uint8, 1)])\n",
      "/Library/Frameworks/Python.framework/Versions/3.7/lib/python3.7/site-packages/tensorboard/compat/tensorflow_stub/dtypes.py:543: FutureWarning: Passing (type, 1) or '1type' as a synonym of type is deprecated; in a future version of numpy, it will be understood as (type, (1,)) / '(1,)type'.\n",
      "  _np_qint16 = np.dtype([(\"qint16\", np.int16, 1)])\n",
      "/Library/Frameworks/Python.framework/Versions/3.7/lib/python3.7/site-packages/tensorboard/compat/tensorflow_stub/dtypes.py:544: FutureWarning: Passing (type, 1) or '1type' as a synonym of type is deprecated; in a future version of numpy, it will be understood as (type, (1,)) / '(1,)type'.\n",
      "  _np_quint16 = np.dtype([(\"quint16\", np.uint16, 1)])\n",
      "/Library/Frameworks/Python.framework/Versions/3.7/lib/python3.7/site-packages/tensorboard/compat/tensorflow_stub/dtypes.py:545: FutureWarning: Passing (type, 1) or '1type' as a synonym of type is deprecated; in a future version of numpy, it will be understood as (type, (1,)) / '(1,)type'.\n",
      "  _np_qint32 = np.dtype([(\"qint32\", np.int32, 1)])\n",
      "/Library/Frameworks/Python.framework/Versions/3.7/lib/python3.7/site-packages/tensorboard/compat/tensorflow_stub/dtypes.py:550: FutureWarning: Passing (type, 1) or '1type' as a synonym of type is deprecated; in a future version of numpy, it will be understood as (type, (1,)) / '(1,)type'.\n",
      "  np_resource = np.dtype([(\"resource\", np.ubyte, 1)])\n"
     ]
    }
   ],
   "source": [
    "#Let's import libraries \n",
    "import tensorflow as tf\n",
    "import numpy as np\n",
    "%matplotlib inline \n",
    "import matplotlib.pyplot as plt\n",
    "import pickle\n",
    "from tensorflow.python.util import deprecation\n",
    "deprecation._PRINT_DEPRECATION_WARNINGS = False"
   ]
  },
  {
   "cell_type": "code",
   "execution_count": 3,
   "metadata": {},
   "outputs": [
    {
     "name": "stdout",
     "output_type": "stream",
     "text": [
      "(50000, 32, 32, 3)\n"
     ]
    },
    {
     "data": {
      "image/png": "[encoded data removed]",
      "text/plain": [
       "<Figure size 432x288 with 1 Axes>"
      ]
     },
     "metadata": {
      "needs_background": "light"
     },
     "output_type": "display_data"
    }
   ],
   "source": [
    "#We'll start with MNIST first\n",
    "\n",
    "def unpickle(file):\n",
    "    with open(file, 'rb') as fo:\n",
    "        dict = pickle.load(fo, encoding='bytes')\n",
    "    return dict\n",
    "\n",
    "data = unpickle('cifar-10-batches-py/data_batch_1')\n",
    "\n",
    "#train data\n",
    "x_train = []\n",
    "for prefix in range(1,6):\n",
    "    data = unpickle('cifar-10-batches-py/data_batch_'+str(prefix))\n",
    "    for i in range(data[b'data'].shape[0]):\n",
    "        im1 = data[b'data'][i][:1024].reshape(32,32)\n",
    "        im2 = data[b'data'][i][1024:2048].reshape(32,32)\n",
    "        im3 = data[b'data'][i][2048:].reshape(32,32)\n",
    "        im = np.dstack((im1,im2,im3))\n",
    "        x_train.append(im)\n",
    "\n",
    "x_train = np.array(x_train)\n",
    "\n",
    "np.random.seed(0)\n",
    "np.random.shuffle(x_train)\n",
    "\n",
    "#test data\n",
    "x_test = []\n",
    "data = unpickle('cifar-10-batches-py/test_batch')\n",
    "for i in range(data[b'data'].shape[0]):\n",
    "    im1 = data[b'data'][i][:1024].reshape(32,32)\n",
    "    im2 = data[b'data'][i][1024:2048].reshape(32,32)\n",
    "    im3 = data[b'data'][i][2048:].reshape(32,32)\n",
    "    im = np.dstack((im1,im2,im3))\n",
    "    x_test.append(im)\n",
    "\n",
    "x_test = np.array(x_test)\n",
    "\n",
    "np.random.shuffle(x_test)\n",
    "\n",
    "print(x_train.shape)\n",
    "                              \n",
    "plt.imshow(x_train[0])\n",
    "plt.show()"
   ]
  },
  {
   "cell_type": "raw",
   "metadata": {},
   "source": [
    "Should be a horse\n",
    "        ___\n",
    "     __|___|__\n",
    "      ('o_o')\n",
    "      _\\~-~/_    ______.\n",
    "     //\\__/\\ \\ ~(_]---'\n",
    "    / )O  O( .\\/_)\n",
    "    \\ \\    / \\_/\n",
    "    )/_|  |_\\\n",
    "   // /(\\/)\\ \\\n",
    "   /_/      \\_\\\n",
    "  (_||      ||_)\n",
    "    \\| |__| |/\n",
    "     | |  | |\n",
    "     | |  | |\n",
    "     |_|  |_|\n",
    "     /_\\  /_\\"
   ]
  },
  {
   "cell_type": "code",
   "execution_count": null,
   "metadata": {},
   "outputs": [],
   "source": []
  },
  {
   "cell_type": "code",
   "execution_count": 4,
   "metadata": {},
   "outputs": [],
   "source": [
    "#Don't forget to scale values\n",
    "x_train = x_train / 255.0\n",
    "x_test = x_test / 255.0"
   ]
  },
  {
   "cell_type": "code",
   "execution_count": 5,
   "metadata": {},
   "outputs": [],
   "source": [
    "#Ok so far we've just been doing the same things as our previous notebook. Let's actually get into the meat of ConvNets.\n",
    "#Again, it would be good if you understand just somewhat intuitively what ConvNets do each layer before coding"
   ]
  },
  {
   "cell_type": "code",
   "execution_count": 6,
   "metadata": {},
   "outputs": [],
   "source": [
    "#define our convnet model\n",
    "def ConvNet(inputs):\n",
    "    #encoding\n",
    "    c1 = tf.layers.conv2d(inputs=inputs, filters=16, kernel_size=(3, 3), padding='same', activation=tf.nn.relu)\n",
    "    p1 = tf.layers.max_pooling2d(inputs=c1,pool_size=(2,2),strides=(2,2),padding='valid')\n",
    "    \n",
    "    c2 = tf.layers.conv2d(inputs=p1, filters=32, kernel_size=(3, 3), padding='same', activation=tf.nn.relu)\n",
    "    p2 = tf.layers.max_pooling2d(inputs=c2,pool_size=(2,2),strides=(2,2),padding='valid')\n",
    "    \n",
    "    d3 = tf.layers.dense(inputs=tf.layers.flatten(p2), units=512, activation=tf.nn.relu)\n",
    "    #d3 - representation\n",
    "    #starting decode\n",
    "    d4 = tf.layers.dense(inputs=d3, units=8*8*32, activation=tf.nn.relu)\n",
    "    \n",
    "    tc5 = tf.layers.conv2d_transpose(inputs=tf.reshape(d4,(-1,8,8,32)), strides=(2,2), filters=16, kernel_size=(3,3), activation=tf.nn.relu, padding='same')\n",
    "    \n",
    "    tc6 = tf.layers.conv2d_transpose(inputs=tc5, filters=3, strides=(2,2), kernel_size=(3,3), activation=tf.nn.sigmoid, padding='same')\n",
    "    \n",
    "    return tc6"
   ]
  },
  {
   "cell_type": "code",
   "execution_count": 7,
   "metadata": {},
   "outputs": [],
   "source": [
    "#Now let's walk through the same model building as last time\n",
    "inputs=tf.placeholder(tf.float32, shape=[None, 32, 32, 3])\n",
    "#We define our input differently in this case\n",
    "\n",
    "labels = tf.placeholder(tf.float32, shape=[None, 32, 32, 3])\n",
    "\n",
    "outputs = ConvNet(inputs)\n",
    "\n",
    "loss = tf.reduce_mean(tf.pow(outputs - inputs, 2))\n",
    "\n",
    "trainer = tf.train.AdamOptimizer(learning_rate=0.001).minimize(loss)\n",
    "\n",
    "#Let's set some hyperparamaters for batch size and epochs\n",
    "batch_size = 128\n",
    "num_epochs = 20\n",
    "    "
   ]
  },
  {
   "cell_type": "code",
   "execution_count": null,
   "metadata": {},
   "outputs": [
    {
     "name": "stdout",
     "output_type": "stream",
     "text": [
      "Starting to run session...\n",
      "0.0137376245\n",
      "0.010021109\n",
      "0.008803821\n",
      "0.007928096\n",
      "0.0074121365\n",
      "0.006741998\n",
      "0.0063851625\n",
      "0.006069516\n",
      "0.0058711627\n",
      "0.005624735\n",
      "0.005636638\n",
      "0.005368143\n",
      "0.0052306787\n",
      "0.005111869\n",
      "0.004951837\n",
      "0.004964586\n",
      "0.004881591\n",
      "0.0046749082\n"
     ]
    }
   ],
   "source": [
    "init=tf.global_variables_initializer()\n",
    "local_init = tf.local_variables_initializer()\n",
    "with tf.Session() as sess:\n",
    "    #each call to sess.run() runs the approriate input within our tf session\n",
    "    sess.run(init)\n",
    "    sess.run(local_init)\n",
    "    print(\"Starting to run session...\")\n",
    "    for epoch in range(num_epochs): #iterate through each epoch\n",
    "        for i in range(x_train.shape[0]//batch_size): #iterate through the number of batches we can make from our samples\n",
    "            batch_images = x_train[i*batch_size:(i+1)*batch_size]\n",
    "            #We have a batch of training images and labels. \n",
    "            #Now we need to run the model by inputing these into the place holders we made\n",
    "            _ = sess.run([trainer], feed_dict={inputs: batch_images, labels: batch_images})\n",
    "        #Checking our accuracy each epoch...\n",
    "        l = sess.run(\n",
    "            loss, feed_dict={inputs: x_test})\n",
    "        print(l)\n",
    "        \n",
    "    pred = sess.run(\n",
    "            outputs, feed_dict={inputs: x_test})\n",
    "    f, a = plt.subplots(2, 10, figsize=(10, 2))\n",
    "    for i in range(10):\n",
    "        a[0][i].imshow(np.reshape(x_test[i], (32, 32,3)))\n",
    "        a[1][i].imshow(np.reshape(pred[i], (32, 32, 3)))\n",
    "    plt.show()\n",
    "    plt.draw()\n",
    "        # Compare original images with their reconstructions\n"
   ]
  },
  {
   "cell_type": "code",
   "execution_count": null,
   "metadata": {},
   "outputs": [],
   "source": []
  }
 ],
 "metadata": {
  "kernelspec": {
   "display_name": "Python 3",
   "language": "python",
   "name": "python3"
  },
  "language_info": {
   "codemirror_mode": {
    "name": "ipython",
    "version": 3
   },
   "file_extension": ".py",
   "mimetype": "text/x-python",
   "name": "python",
   "nbconvert_exporter": "python",
   "pygments_lexer": "ipython3",
   "version": "3.7.3"
  }
 },
 "nbformat": 4,
 "nbformat_minor": 2
}
