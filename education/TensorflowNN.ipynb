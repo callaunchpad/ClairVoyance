{
 "cells": [
  {
   "cell_type": "code",
   "execution_count": 4,
   "metadata": {},
   "outputs": [],
   "source": [
    "#The Beauty and Joy of Tensorflow!"
   ]
  },
  {
   "cell_type": "code",
   "execution_count": 5,
   "metadata": {},
   "outputs": [
    {
     "data": {
      "text/plain": [
       "'This tutorial will give you a low level look into how tensorflow operates so you feel comfortable with the API\\nand you will run through a basic NN tutorial. From there you should be able to pick up future models and use them with\\ntensorflow functions'"
      ]
     },
     "execution_count": 5,
     "metadata": {},
     "output_type": "execute_result"
    }
   ],
   "source": [
    "\"\"\"This tutorial will give you a low level look into how tensorflow operates so you feel comfortable with the API\n",
    "and you will run through a basic NN tutorial. From there you should be able to pick up future models and use them with\n",
    "tensorflow functions\"\"\""
   ]
  },
  {
   "cell_type": "code",
   "execution_count": null,
   "metadata": {},
   "outputs": [],
   "source": [
    "#First we need to import tensorflow and helper libraries\n",
    "import tensorflow as tf\n",
    "import numpy as np\n",
    "import matplotlib.pyplot as plt"
   ]
  },
  {
   "cell_type": "code",
   "execution_count": null,
   "metadata": {},
   "outputs": [],
   "source": [
    "\"\"\"Sweet! Now what? Well first let's start by \n",
    "importing the infamous MNIST data that we will use for our example for a basic NN.\n",
    "We will import the dataset from keras\"\"\"\n",
    "from tensorflow import keras\n",
    "mnist = keras.datasets.mnist\n",
    "(x_train, y_train), (x_test, y_test) = mnist.load_data()\n",
    "#Here Keras automatically splits our dataset into training and testing along with inputs and labels. Let's see what they look like\n"
   ]
  },
  {
   "cell_type": "code",
   "execution_count": null,
   "metadata": {},
   "outputs": [],
   "source": []
  }
 ],
 "metadata": {
  "kernelspec": {
   "display_name": "Python 3",
   "language": "python",
   "name": "python3"
  },
  "language_info": {
   "codemirror_mode": {
    "name": "ipython",
    "version": 3
   },
   "file_extension": ".py",
   "mimetype": "text/x-python",
   "name": "python",
   "nbconvert_exporter": "python",
   "pygments_lexer": "ipython3",
   "version": "3.7.3"
  }
 },
 "nbformat": 4,
 "nbformat_minor": 2
}
