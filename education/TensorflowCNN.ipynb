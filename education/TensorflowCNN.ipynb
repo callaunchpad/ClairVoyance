{
 "cells": [
  {
   "cell_type": "code",
   "execution_count": null,
   "metadata": {},
   "outputs": [],
   "source": [
    "#Practice with some ConvNets\n",
    "#This ipython also assumes you have decent knowledge of ConvNets. This article should be good enough for now: https://towardsdatascience.com/a-comprehensive-guide-to-convolutional-neural-networks-the-eli5-way-3bd2b1164a53"
   ]
  },
  {
   "cell_type": "code",
   "execution_count": null,
   "metadata": {},
   "outputs": [],
   "source": [
    "#Let's import libraries \n",
    "import tensorflow as tf\n",
    "import numpy as np\n",
    "%matplotlib inline \n",
    "import matplotlib.pyplot as plt"
   ]
  },
  {
   "cell_type": "code",
   "execution_count": null,
   "metadata": {},
   "outputs": [],
   "source": [
    "#We'll start with MNIST first\n",
    "mnist = tf.keras.datasets.mnist\n",
    "(x_train, y_train), (x_test, y_test) = mnist.load_data()\n",
    "\"\"\"(x_train, y_train), (x_test, y_test) tf.keras.datasets.cifar10.load_data()\n",
    "In case you want to try CIFAR (NOTE: It would be good to check shape of Cifar and properly adjust since it is RGB)\n",
    "\"\"\""
   ]
  },
  {
   "cell_type": "code",
   "execution_count": null,
   "metadata": {},
   "outputs": [],
   "source": [
    "#Something to note is that CNN layers taken in channels as input as well. Since MNIST is grayscale, we just need to add singular channel dimension\n",
    "x_train = np.expand_dims(x_train, axis=3)\n",
    "x_test = np.expand_dims(x_test, axis=3)\n",
    "print(x_train.shape)\n",
    "print(x_test.shape)"
   ]
  },
  {
   "cell_type": "code",
   "execution_count": null,
   "metadata": {},
   "outputs": [],
   "source": [
    "#One-hot encoding\n",
    "numpy_zero = np.zeros((y_train.shape[0], 10))\n",
    "numpy_zero[np.arange(y_train.shape[0]), y_train] = 1\n",
    "y_train = numpy_zero \n",
    "numpy_zero2 = np.zeros((y_test.shape[0], 10))\n",
    "numpy_zero2[np.arange(y_test.shape[0]), y_test] = 1\n",
    "y_test = numpy_zero2"
   ]
  },
  {
   "cell_type": "code",
   "execution_count": null,
   "metadata": {},
   "outputs": [],
   "source": [
    "#Don't forget to scale values\n",
    "x_train = x_train / 255.0\n",
    "x_test = x_test / 255.0 "
   ]
  },
  {
   "cell_type": "code",
   "execution_count": null,
   "metadata": {},
   "outputs": [],
   "source": [
    "#Ok so far we've just been doing the same things as our previous notebook. Let's actually get into the meat of ConvNets.\n",
    "#Again, it would be good if you understand just somewhat intuitively what ConvNets do each layer before coding"
   ]
  },
  {
   "cell_type": "code",
   "execution_count": null,
   "metadata": {},
   "outputs": [],
   "source": [
    "#define our convnet model\n",
    "def ConvNet(inputs):\n",
    "    #Remember, our conv layers take inputs of size [batch_size, width, height, channels]. Here's an example of one layer\n",
    "    first_layer = tf.layers.conv2d(inputs=inputs, filters=32, kernel_size=(3, 3), padding='valid', activation=tf.nn.relu)\n",
    "    \"\"\" Let's walk through what we have defined. We take in the inputs and are creating an output of\n",
    "    of [batch_size, height-2, width-2, filters]. (Why does (Height, Widght) change?) \n",
    "    Each filter is a product of scanning a different kernel (randomly initialized matrix) of size [3, 3] \n",
    "    to our original image. You can think of filters analogous to dense layer units and kernels analogous to dense weights\n",
    "    TODO: Apply one more conv layers with half the current filters and an output layer for classification\n",
    "    NOTE: Our output layer should be size [batch_size, 10] which can't be made by a conv layer which ouputs a 4D tensor.\n",
    "    What can we do to fix this? (Message me if you need a hint :))\n",
    "    \"\"\"\n",
    "    \n",
    "    return output_layer\n"
   ]
  },
  {
   "cell_type": "code",
   "execution_count": null,
   "metadata": {},
   "outputs": [],
   "source": [
    "#Now let's walk through the same model building as last time\n",
    "inputs=tf.placeholder(tf.float32, shape=[None, 28, 28, 1])\n",
    "#We define our input differently in this case\n",
    "\n",
    "labels = tf.placeholder(tf.float32, shape=[None, 10])\n",
    "\n",
    "outputs = ConvNet(inputs)\n",
    "\n",
    "loss = tf.reduce_mean(tf.nn.softmax_cross_entropy_with_logits(logits=outputs, labels=labels))\n",
    "\n",
    "trainer = tf.train.AdamOptimizer(learning_rate=0.01).minimize(loss)\n",
    "\n",
    "_, accuracy = tf.metrics.accuracy(tf.argmax(labels, 1), tf.argmax(outputs, 1))\n",
    "\n",
    "#Let's set some hyperparamaters for batch size and epochs\n",
    "batch_size = 128\n",
    "num_epochs = 10\n",
    "    "
   ]
  },
  {
   "cell_type": "code",
   "execution_count": null,
   "metadata": {},
   "outputs": [],
   "source": [
    "init=tf.global_variables_initializer()\n",
    "local_init = tf.local_variables_initializer()\n",
    "with tf.Session() as sess:\n",
    "    #each call to sess.run() runs the approriate input within our tf session\n",
    "    sess.run(init)\n",
    "    sess.run(local_init)\n",
    "    print(\"Starting to run session...\")\n",
    "    for epoch in range(num_epochs): #iterate through each epoch\n",
    "        for i in range(x_train.shape[0]//batch_size): #iterate through the number of batches we can make from our samples\n",
    "            batch_images = x_train[i*batch_size:(i+1)*batch_size]\n",
    "            batch_labels = y_train[i*batch_size:(i+1)*batch_size]\n",
    "            #We have a batch of training images and labels. \n",
    "            #Now we need to run the model by inputing these into the place holders we made\n",
    "            _ = sess.run([trainer], feed_dict={inputs: batch_images, labels: batch_labels})\n",
    "        #Checking our accuracy each epoch...\n",
    "        size = x_test.shape[0]//num_epochs\n",
    "        test_images = x_test[epoch*size:(i+1)*size]\n",
    "        test_labels = y_test[epoch*size:(i+1)*size]\n",
    "        test_accuracy = sess.run([accuracy], feed_dict = {inputs: test_images, labels: test_labels})\n",
    "        print(\"Accuracy at epoch {} is {}\".format(epoch, test_accuracy))"
   ]
  },
  {
   "cell_type": "code",
   "execution_count": null,
   "metadata": {},
   "outputs": [],
   "source": []
  }
 ],
 "metadata": {
  "kernelspec": {
   "display_name": "Python 3",
   "language": "python",
   "name": "python3"
  },
  "language_info": {
   "codemirror_mode": {
    "name": "ipython",
    "version": 3
   },
   "file_extension": ".py",
   "mimetype": "text/x-python",
   "name": "python",
   "nbconvert_exporter": "python",
   "pygments_lexer": "ipython3",
   "version": "3.7.3"
  }
 },
 "nbformat": 4,
 "nbformat_minor": 2
}
